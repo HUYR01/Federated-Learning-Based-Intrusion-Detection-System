{
  "nbformat": 4,
  "nbformat_minor": 0,
  "metadata": {
    "colab": {
      "provenance": [],
      "authorship_tag": "ABX9TyMidsqc1eUNq5soaEe12Ovr",
      "include_colab_link": true
    },
    "kernelspec": {
      "name": "python3",
      "display_name": "Python 3"
    },
    "language_info": {
      "name": "python"
    },
    "accelerator": "GPU",
    "gpuClass": "standard"
  },
  "cells": [
    {
      "cell_type": "markdown",
      "metadata": {
        "id": "view-in-github",
        "colab_type": "text"
      },
      "source": [
        "<a href=\"https://colab.research.google.com/github/HUYR01/Federated-Learning-Based-Intrusion-Detection-System/blob/main/FL_CNN.ipynb\" target=\"_parent\"><img src=\"https://colab.research.google.com/assets/colab-badge.svg\" alt=\"Open In Colab\"/></a>"
      ]
    },
    {
      "cell_type": "code",
      "execution_count": null,
      "metadata": {
        "colab": {
          "base_uri": "https://localhost:8080/"
        },
        "id": "zSl61KIk3-w5",
        "outputId": "60151625-c464-41e4-f6fc-2c913622c003"
      },
      "outputs": [
        {
          "output_type": "stream",
          "name": "stdout",
          "text": [
            "Mounted at /content/drive\n"
          ]
        }
      ],
      "source": [
        "from google.colab import drive\n",
        "import os\n",
        "drive.mount(\"/content/drive\", force_remount=True)"
      ]
    },
    {
      "cell_type": "code",
      "source": [
        "import torch, copy\n",
        "import argparse, json\n",
        "import datetime\n",
        "import os\n",
        "import logging\n",
        "import random\n",
        "\n",
        "logging.getLogger().setLevel(logging.INFO)\n",
        "\n",
        "no_models=5 #客户端模型数量\n",
        "global_epochs=5  #全局迭代次数\n",
        "local_epochs= 3 #局部迭代次数\n",
        "#k =5  #选择局部模型的个数\n",
        "batch_size=1024 #本地训练每一轮的样本数\n",
        "lr = 0.001\n",
        "momentum= 0.0001\n",
        "lamda= 0.1"
      ],
      "metadata": {
        "id": "DnHJEKoa4daH"
      },
      "execution_count": null,
      "outputs": []
    },
    {
      "cell_type": "markdown",
      "source": [
        "### CNN模型"
      ],
      "metadata": {
        "id": "pkrhN2xG4hsI"
      }
    },
    {
      "cell_type": "code",
      "source": [
        "import os\n",
        "import logging\n",
        "\n",
        "import pandas as pd\n",
        "import tensorflow.keras as keras\n",
        "\n",
        "from tensorflow.keras.callbacks import ModelCheckpoint\n",
        "from tensorflow.keras.utils import plot_model\n",
        "\n",
        "# Log setting\n",
        "logging.basicConfig(format=\"%(asctime)s %(levelname)s %(message)s\", datefmt=\"%H:%M:%S\", level=logging.INFO)\n",
        "\n",
        "# Change display.max_rows to show all features.\n",
        "pd.set_option(\"display.max_rows\", 85)"
      ],
      "metadata": {
        "id": "fmo9yCCv4gr1",
        "colab": {
          "base_uri": "https://localhost:8080/"
        },
        "outputId": "35aa0c5e-3edb-432a-ece3-2c76e1dc3b13"
      },
      "execution_count": null,
      "outputs": [
        {
          "output_type": "stream",
          "name": "stderr",
          "text": [
            "INFO:numexpr.utils:NumExpr defaulting to 2 threads.\n"
          ]
        }
      ]
    },
    {
      "cell_type": "code",
      "source": [
        "PROCESSED_DIR_PATH = \"/content/drive/My Drive/CICIDS/ProcessedDataset\"\n",
        "MODEL_DIR_PATH = \"/content/drive/My Drive/CICIDS/Model\""
      ],
      "metadata": {
        "id": "dFWQbp4C4quo"
      },
      "execution_count": null,
      "outputs": []
    },
    {
      "cell_type": "code",
      "source": [
        "import numpy as np\n",
        "import tensorflow as tf\n",
        "import matplotlib.pyplot as plt\n",
        "\n",
        "from sklearn.metrics import classification_report\n",
        "from sklearn.preprocessing import MinMaxScaler\n",
        "\n",
        "\n",
        "def preprocessing(df: pd.DataFrame) -> (np.ndarray, np.ndarray):\n",
        "    # Shuffle the dataset打乱数据集\n",
        "    df = df.sample(frac=1)\n",
        "\n",
        "    # 划分特征和标签\n",
        "    x = df.iloc[:, df.columns != 'Label']\n",
        "    y = df[['Label']].to_numpy()\n",
        "\n",
        "    # 将特征归一化到[0,1]区间\n",
        "    scaler = MinMaxScaler()\n",
        "    x = scaler.fit_transform(x)\n",
        "\n",
        "    return x, y\n",
        "\n",
        "\n",
        "def reshape_dataset_cnn(x: np.ndarray) -> np.ndarray:\n",
        "    # Add padding columns添加填充列（每一行末尾填充3个零）\n",
        "    result = np.zeros((x.shape[0], 81))\n",
        "    result[:, :-3] = x\n",
        "\n",
        "    # Reshaping dataset\n",
        "    result = np.reshape(result, (result.shape[0], 9, 9))\n",
        "    result = result[..., tf.newaxis]#加一个维度\n",
        "    return result\n",
        "\n",
        "\n",
        "def plot_history(history: tf.keras.callbacks.History):\n",
        "    # summarize history for accuracy\n",
        "    plt.plot(history.history['sparse_categorical_accuracy'])\n",
        "    plt.plot(history.history['val_sparse_categorical_accuracy'])\n",
        "    plt.title('model2 accuracy')\n",
        "    plt.ylabel('accuracy')\n",
        "    plt.xlabel('epoch')\n",
        "    plt.legend(['train', 'test'], loc='upper left')\n",
        "    plt.show()\n",
        "\n",
        "    # summarize history for loss\n",
        "    plt.plot(history.history['loss'])\n",
        "    plt.plot(history.history['val_loss'])\n",
        "    plt.title('model2 loss')\n",
        "    plt.ylabel('loss')\n",
        "    plt.xlabel('epoch')\n",
        "    plt.legend(['train', 'test'], loc='upper left')\n",
        "    plt.show()\n",
        "\n",
        "\n",
        "def evaluation(model: keras.Model, x_test: np.ndarray, y_test: np.ndarray):\n",
        "    score = model.evaluate(x_test, y_test, verbose=False)\n",
        "    logging.info('Evaluation:\\nLoss: {}\\nAccuracy : {}\\n'.format(score[0], score[1]))\n",
        "\n",
        "    # F1 score\n",
        "    y_pred = model.predict(x_test, batch_size=1024, verbose=False)\n",
        "    y_pred = np.argmax(y_pred, axis=1)\n",
        "\n",
        "    logging.info(\"\\n{}\".format(classification_report(y_test, y_pred)))"
      ],
      "metadata": {
        "id": "IpBGk5WM4sPA"
      },
      "execution_count": null,
      "outputs": []
    },
    {
      "cell_type": "code",
      "source": [
        "def create_cnn_model() -> keras.Model:\n",
        "    # Creating layers\n",
        "    inputs = keras.layers.Input(shape=(9, 9, 1))\n",
        "    x = keras.layers.Conv2D(120, 2, activation='relu', padding=\"same\")(inputs)#卷积核数量120，长宽=2\n",
        "    x = keras.layers.Conv2D(60, 3, activation='relu', padding=\"same\")(x)\n",
        "    x = keras.layers.Conv2D(30, 4, activation='relu', padding=\"same\")(x)\n",
        "    x = keras.layers.Flatten()(x)\n",
        "    outputs = keras.layers.Dense(15, activation='softmax')(x)#全连接层\n",
        "    cnn_model = keras.Model(inputs=inputs, outputs=outputs, name='cnn')\n",
        "\n",
        "    # Compile layers\n",
        "    cnn_model.compile(loss='sparse_categorical_crossentropy',\n",
        "                      metrics=['sparse_categorical_accuracy'],\n",
        "                      optimizer='adam')\n",
        "\n",
        "    return cnn_model\n",
        "\n"
      ],
      "metadata": {
        "id": "fu7131m35Oh4"
      },
      "execution_count": null,
      "outputs": []
    },
    {
      "cell_type": "markdown",
      "source": [
        "### 数据读取"
      ],
      "metadata": {
        "id": "zYUNMr9Z5SIW"
      }
    },
    {
      "cell_type": "code",
      "source": [
        "#训练数据读取\n",
        "df = pd.read_csv(os.path.join(PROCESSED_DIR_PATH, 'train_MachineLearningCVE.csv'), skipinitialspace=True)\n",
        "logging.info(\"Class distribution\\n{}\".format(df.Label.value_counts()))\n",
        "X, Y = preprocessing(df)\n",
        "del df\n",
        "X = reshape_dataset_cnn(X)\n"
      ],
      "metadata": {
        "id": "DQqCLUx85QrX",
        "colab": {
          "base_uri": "https://localhost:8080/"
        },
        "outputId": "3d181d00-c957-4c3f-e2b4-4cdc353545ed"
      },
      "execution_count": null,
      "outputs": [
        {
          "output_type": "stream",
          "name": "stderr",
          "text": [
            "INFO:root:Class distribution\n",
            "0     1818477\n",
            "4      184858\n",
            "10     127144\n",
            "2      102421\n",
            "3        8235\n",
            "7        6350\n",
            "11       4718\n",
            "6        4637\n",
            "5        4399\n",
            "1        1573\n",
            "12       1205\n",
            "14        522\n",
            "9          29\n",
            "13         17\n",
            "8           9\n",
            "Name: Label, dtype: int64\n"
          ]
        }
      ]
    },
    {
      "cell_type": "markdown",
      "source": [
        "### 联邦学习"
      ],
      "metadata": {
        "id": "DsKRpi2k5cLG"
      }
    },
    {
      "cell_type": "markdown",
      "source": [
        "现存问题：1、数据划分 2、模型参数更新"
      ],
      "metadata": {
        "id": "Ij4YlVtuN7bv"
      }
    },
    {
      "cell_type": "code",
      "source": [
        "#定义一个服务端和多个客户端\n",
        "server=create_cnn_model()\n",
        "weights = server.get_weights() #存储模型参数\n",
        "\n",
        "print(\"\\nmodel created\\n\")\n",
        "logging.info(\"*** TRAINING START ***\")\n",
        "for i in range(global_epochs):\n",
        "\n",
        "    print(i,' ')\n",
        "\n",
        "    data_len=int(len(X) / no_models)\n",
        "\n",
        "    new_weights=[]#存储本轮模型更新结果\n",
        "    for weight in weights:\n",
        "        new_weights.append(np.zeros(weight.shape))\n",
        "\n",
        "    print('\\nlocal_model:\\n')\n",
        "    for c in range(no_models):\n",
        "      #将客户端模型参数更新为服务端模型参数\n",
        "      print(c,' ')\n",
        "      client=create_cnn_model()\n",
        "      X_c=X[c*data_len:(c+1)*data_len]\n",
        "      Y_c=Y[c*data_len:(c+1)*data_len]\n",
        "\n",
        "      #更新客户端模型\n",
        "      client.set_weights(weights)\n",
        "      #客户端模型训练\n",
        "      history=client.fit(X_c, Y_c, validation_split=0.1, epochs=local_epochs, batch_size=batch_size, verbose=True)#0.1为验证集占比\n",
        "\n",
        "\n",
        "      #模型聚合\n",
        "      cur_weights=client.get_weights()\n",
        "\n",
        "      for i in range(len(cur_weights)):\n",
        "        new_weights[i] += cur_weights[i] / no_models\n",
        "      print('\\nserver:')\n",
        "\n",
        "    weights = new_weights\n",
        "    server.set_weights(weights)\n",
        "    server.save(os.path.join(MODEL_DIR_PATH, \"server_weights-06-07.h5\"))\n",
        "\n",
        "\n",
        "server.set_weights(weights)\n",
        "logging.info(\"*** TRAINING FINISH ***\")"
      ],
      "metadata": {
        "colab": {
          "base_uri": "https://localhost:8080/"
        },
        "id": "-pzYvWUSlmFU",
        "outputId": "e1df0904-12e6-4b2d-c325-c88c81047258"
      },
      "execution_count": null,
      "outputs": [
        {
          "output_type": "stream",
          "name": "stderr",
          "text": [
            "INFO:root:*** TRAINING START ***\n"
          ]
        },
        {
          "output_type": "stream",
          "name": "stdout",
          "text": [
            "\n",
            "model created\n",
            "\n",
            "0  \n",
            "\n",
            "local_model:\n",
            "\n",
            "0  \n",
            "Epoch 1/3\n",
            "399/399 [==============================] - 11s 23ms/step - loss: 0.2775 - sparse_categorical_accuracy: 0.9195 - val_loss: 0.1285 - val_sparse_categorical_accuracy: 0.9538\n",
            "Epoch 2/3\n",
            "399/399 [==============================] - 9s 22ms/step - loss: 0.1041 - sparse_categorical_accuracy: 0.9571 - val_loss: 0.0985 - val_sparse_categorical_accuracy: 0.9651\n",
            "Epoch 3/3\n",
            "399/399 [==============================] - 9s 22ms/step - loss: 0.0841 - sparse_categorical_accuracy: 0.9658 - val_loss: 0.0861 - val_sparse_categorical_accuracy: 0.9629\n",
            "\n",
            "server:\n",
            "1  \n",
            "Epoch 1/3\n",
            "399/399 [==============================] - 15s 22ms/step - loss: 0.2697 - sparse_categorical_accuracy: 0.9215 - val_loss: 0.1199 - val_sparse_categorical_accuracy: 0.9520\n",
            "Epoch 2/3\n",
            "399/399 [==============================] - 9s 23ms/step - loss: 0.1026 - sparse_categorical_accuracy: 0.9578 - val_loss: 0.0957 - val_sparse_categorical_accuracy: 0.9663\n",
            "Epoch 3/3\n",
            "399/399 [==============================] - 9s 23ms/step - loss: 0.0834 - sparse_categorical_accuracy: 0.9652 - val_loss: 0.0817 - val_sparse_categorical_accuracy: 0.9667\n",
            "\n",
            "server:\n",
            "2  \n",
            "Epoch 1/3\n",
            "399/399 [==============================] - 10s 23ms/step - loss: 0.2732 - sparse_categorical_accuracy: 0.9207 - val_loss: 0.1311 - val_sparse_categorical_accuracy: 0.9512\n",
            "Epoch 2/3\n",
            "399/399 [==============================] - 9s 22ms/step - loss: 0.0998 - sparse_categorical_accuracy: 0.9581 - val_loss: 0.0923 - val_sparse_categorical_accuracy: 0.9611\n",
            "Epoch 3/3\n",
            "399/399 [==============================] - 9s 22ms/step - loss: 0.0812 - sparse_categorical_accuracy: 0.9662 - val_loss: 0.0837 - val_sparse_categorical_accuracy: 0.9641\n",
            "\n",
            "server:\n",
            "3  \n",
            "Epoch 1/3\n",
            "399/399 [==============================] - 10s 22ms/step - loss: 0.2724 - sparse_categorical_accuracy: 0.9203 - val_loss: 0.1108 - val_sparse_categorical_accuracy: 0.9567\n",
            "Epoch 2/3\n",
            "399/399 [==============================] - 9s 21ms/step - loss: 0.1011 - sparse_categorical_accuracy: 0.9573 - val_loss: 0.0892 - val_sparse_categorical_accuracy: 0.9511\n",
            "Epoch 3/3\n",
            "399/399 [==============================] - 9s 22ms/step - loss: 0.0812 - sparse_categorical_accuracy: 0.9665 - val_loss: 0.0774 - val_sparse_categorical_accuracy: 0.9715\n",
            "\n",
            "server:\n",
            "4  \n",
            "Epoch 1/3\n",
            "399/399 [==============================] - 11s 23ms/step - loss: 0.2761 - sparse_categorical_accuracy: 0.9194 - val_loss: 0.1481 - val_sparse_categorical_accuracy: 0.9441\n",
            "Epoch 2/3\n",
            "399/399 [==============================] - 9s 23ms/step - loss: 0.1030 - sparse_categorical_accuracy: 0.9568 - val_loss: 0.0908 - val_sparse_categorical_accuracy: 0.9503\n",
            "Epoch 3/3\n",
            "399/399 [==============================] - 9s 22ms/step - loss: 0.0831 - sparse_categorical_accuracy: 0.9661 - val_loss: 0.0828 - val_sparse_categorical_accuracy: 0.9553\n",
            "\n",
            "server:\n",
            "1  \n",
            "\n",
            "local_model:\n",
            "\n",
            "0  \n",
            "Epoch 1/3\n",
            "399/399 [==============================] - 10s 23ms/step - loss: 0.0777 - sparse_categorical_accuracy: 0.9688 - val_loss: 0.0759 - val_sparse_categorical_accuracy: 0.9724\n",
            "Epoch 2/3\n",
            "399/399 [==============================] - 9s 22ms/step - loss: 0.0620 - sparse_categorical_accuracy: 0.9766 - val_loss: 0.0556 - val_sparse_categorical_accuracy: 0.9787\n",
            "Epoch 3/3\n",
            "399/399 [==============================] - 9s 22ms/step - loss: 0.0500 - sparse_categorical_accuracy: 0.9813 - val_loss: 0.0636 - val_sparse_categorical_accuracy: 0.9818\n",
            "\n",
            "server:\n",
            "1  \n",
            "Epoch 1/3\n",
            "399/399 [==============================] - 11s 23ms/step - loss: 0.0776 - sparse_categorical_accuracy: 0.9700 - val_loss: 0.0821 - val_sparse_categorical_accuracy: 0.9637\n",
            "Epoch 2/3\n",
            "399/399 [==============================] - 9s 22ms/step - loss: 0.0610 - sparse_categorical_accuracy: 0.9771 - val_loss: 0.0635 - val_sparse_categorical_accuracy: 0.9782\n",
            "Epoch 3/3\n",
            "399/399 [==============================] - 9s 21ms/step - loss: 0.0515 - sparse_categorical_accuracy: 0.9806 - val_loss: 0.0543 - val_sparse_categorical_accuracy: 0.9817\n",
            "\n",
            "server:\n",
            "2  \n",
            "Epoch 1/3\n",
            "399/399 [==============================] - 11s 22ms/step - loss: 0.0770 - sparse_categorical_accuracy: 0.9696 - val_loss: 0.0747 - val_sparse_categorical_accuracy: 0.9631\n",
            "Epoch 2/3\n",
            "399/399 [==============================] - 9s 22ms/step - loss: 0.0623 - sparse_categorical_accuracy: 0.9761 - val_loss: 0.0608 - val_sparse_categorical_accuracy: 0.9771\n",
            "Epoch 3/3\n",
            "399/399 [==============================] - 9s 21ms/step - loss: 0.0499 - sparse_categorical_accuracy: 0.9812 - val_loss: 0.0421 - val_sparse_categorical_accuracy: 0.9838\n",
            "\n",
            "server:\n",
            "3  \n",
            "Epoch 1/3\n",
            "399/399 [==============================] - 10s 22ms/step - loss: 0.0772 - sparse_categorical_accuracy: 0.9697 - val_loss: 0.0745 - val_sparse_categorical_accuracy: 0.9711\n",
            "Epoch 2/3\n",
            "399/399 [==============================] - 9s 22ms/step - loss: 0.0621 - sparse_categorical_accuracy: 0.9767 - val_loss: 0.0524 - val_sparse_categorical_accuracy: 0.9801\n",
            "Epoch 3/3\n",
            "399/399 [==============================] - 9s 22ms/step - loss: 0.0508 - sparse_categorical_accuracy: 0.9811 - val_loss: 0.0438 - val_sparse_categorical_accuracy: 0.9828\n",
            "\n",
            "server:\n",
            "4  \n",
            "Epoch 1/3\n",
            "399/399 [==============================] - 10s 22ms/step - loss: 0.0765 - sparse_categorical_accuracy: 0.9700 - val_loss: 0.0717 - val_sparse_categorical_accuracy: 0.9677\n",
            "Epoch 2/3\n",
            "399/399 [==============================] - 9s 22ms/step - loss: 0.0606 - sparse_categorical_accuracy: 0.9771 - val_loss: 0.0595 - val_sparse_categorical_accuracy: 0.9770\n",
            "Epoch 3/3\n",
            "399/399 [==============================] - 9s 22ms/step - loss: 0.0499 - sparse_categorical_accuracy: 0.9815 - val_loss: 0.0584 - val_sparse_categorical_accuracy: 0.9801\n",
            "\n",
            "server:\n",
            "2  \n",
            "\n",
            "local_model:\n",
            "\n",
            "0  \n",
            "Epoch 1/3\n",
            "399/399 [==============================] - 10s 23ms/step - loss: 0.0435 - sparse_categorical_accuracy: 0.9836 - val_loss: 0.0370 - val_sparse_categorical_accuracy: 0.9867\n",
            "Epoch 2/3\n",
            "399/399 [==============================] - 9s 21ms/step - loss: 0.0369 - sparse_categorical_accuracy: 0.9856 - val_loss: 0.0579 - val_sparse_categorical_accuracy: 0.9717\n",
            "Epoch 3/3\n",
            "399/399 [==============================] - 9s 22ms/step - loss: 0.0343 - sparse_categorical_accuracy: 0.9865 - val_loss: 0.0362 - val_sparse_categorical_accuracy: 0.9875\n",
            "\n",
            "server:\n",
            "1  \n",
            "Epoch 1/3\n",
            "399/399 [==============================] - 10s 23ms/step - loss: 0.0432 - sparse_categorical_accuracy: 0.9837 - val_loss: 0.0395 - val_sparse_categorical_accuracy: 0.9849\n",
            "Epoch 2/3\n",
            "399/399 [==============================] - 9s 22ms/step - loss: 0.0367 - sparse_categorical_accuracy: 0.9857 - val_loss: 0.0370 - val_sparse_categorical_accuracy: 0.9865\n",
            "Epoch 3/3\n",
            "399/399 [==============================] - 9s 22ms/step - loss: 0.0338 - sparse_categorical_accuracy: 0.9868 - val_loss: 0.0335 - val_sparse_categorical_accuracy: 0.9881\n",
            "\n",
            "server:\n",
            "2  \n",
            "Epoch 1/3\n",
            "399/399 [==============================] - 11s 23ms/step - loss: 0.0433 - sparse_categorical_accuracy: 0.9835 - val_loss: 0.0396 - val_sparse_categorical_accuracy: 0.9855\n",
            "Epoch 2/3\n",
            "399/399 [==============================] - 9s 22ms/step - loss: 0.0364 - sparse_categorical_accuracy: 0.9856 - val_loss: 0.0319 - val_sparse_categorical_accuracy: 0.9890\n",
            "Epoch 3/3\n",
            "399/399 [==============================] - 9s 22ms/step - loss: 0.0337 - sparse_categorical_accuracy: 0.9866 - val_loss: 0.0293 - val_sparse_categorical_accuracy: 0.9894\n",
            "\n",
            "server:\n",
            "3  \n",
            "Epoch 1/3\n",
            "399/399 [==============================] - 10s 22ms/step - loss: 0.0427 - sparse_categorical_accuracy: 0.9838 - val_loss: 0.0440 - val_sparse_categorical_accuracy: 0.9845\n",
            "Epoch 2/3\n",
            "399/399 [==============================] - 9s 22ms/step - loss: 0.0366 - sparse_categorical_accuracy: 0.9857 - val_loss: 0.0381 - val_sparse_categorical_accuracy: 0.9836\n",
            "Epoch 3/3\n",
            "399/399 [==============================] - 9s 22ms/step - loss: 0.0341 - sparse_categorical_accuracy: 0.9868 - val_loss: 0.0325 - val_sparse_categorical_accuracy: 0.9873\n",
            "\n",
            "server:\n",
            "4  \n",
            "Epoch 1/3\n",
            "399/399 [==============================] - 12s 22ms/step - loss: 0.0434 - sparse_categorical_accuracy: 0.9835 - val_loss: 0.0395 - val_sparse_categorical_accuracy: 0.9842\n",
            "Epoch 2/3\n",
            "399/399 [==============================] - 9s 22ms/step - loss: 0.0373 - sparse_categorical_accuracy: 0.9858 - val_loss: 0.0405 - val_sparse_categorical_accuracy: 0.9798\n",
            "Epoch 3/3\n",
            "399/399 [==============================] - 9s 22ms/step - loss: 0.0344 - sparse_categorical_accuracy: 0.9866 - val_loss: 0.0366 - val_sparse_categorical_accuracy: 0.9851\n",
            "\n",
            "server:\n",
            "3  \n",
            "\n",
            "local_model:\n",
            "\n",
            "0  \n",
            "Epoch 1/3\n",
            "399/399 [==============================] - 11s 22ms/step - loss: 0.0334 - sparse_categorical_accuracy: 0.9870 - val_loss: 0.0512 - val_sparse_categorical_accuracy: 0.9743\n",
            "Epoch 2/3\n",
            "399/399 [==============================] - 9s 22ms/step - loss: 0.0311 - sparse_categorical_accuracy: 0.9879 - val_loss: 0.0304 - val_sparse_categorical_accuracy: 0.9880\n",
            "Epoch 3/3\n",
            "399/399 [==============================] - 9s 22ms/step - loss: 0.0291 - sparse_categorical_accuracy: 0.9888 - val_loss: 0.0281 - val_sparse_categorical_accuracy: 0.9893\n",
            "\n",
            "server:\n",
            "1  \n",
            "Epoch 1/3\n",
            "399/399 [==============================] - 10s 22ms/step - loss: 0.0335 - sparse_categorical_accuracy: 0.9867 - val_loss: 0.0319 - val_sparse_categorical_accuracy: 0.9876\n",
            "Epoch 2/3\n",
            "399/399 [==============================] - 9s 22ms/step - loss: 0.0305 - sparse_categorical_accuracy: 0.9882 - val_loss: 0.0279 - val_sparse_categorical_accuracy: 0.9898\n",
            "Epoch 3/3\n",
            "399/399 [==============================] - 9s 23ms/step - loss: 0.0282 - sparse_categorical_accuracy: 0.9892 - val_loss: 0.0434 - val_sparse_categorical_accuracy: 0.9781\n",
            "\n",
            "server:\n",
            "2  \n",
            "Epoch 1/3\n",
            "399/399 [==============================] - 10s 22ms/step - loss: 0.0326 - sparse_categorical_accuracy: 0.9871 - val_loss: 0.0299 - val_sparse_categorical_accuracy: 0.9873\n",
            "Epoch 2/3\n",
            "399/399 [==============================] - 9s 22ms/step - loss: 0.0305 - sparse_categorical_accuracy: 0.9879 - val_loss: 0.0268 - val_sparse_categorical_accuracy: 0.9914\n",
            "Epoch 3/3\n",
            "399/399 [==============================] - 9s 22ms/step - loss: 0.0283 - sparse_categorical_accuracy: 0.9888 - val_loss: 0.0310 - val_sparse_categorical_accuracy: 0.9864\n",
            "\n",
            "server:\n",
            "3  \n",
            "Epoch 1/3\n",
            "399/399 [==============================] - 11s 23ms/step - loss: 0.0325 - sparse_categorical_accuracy: 0.9874 - val_loss: 0.0306 - val_sparse_categorical_accuracy: 0.9892\n",
            "Epoch 2/3\n",
            "399/399 [==============================] - 9s 22ms/step - loss: 0.0310 - sparse_categorical_accuracy: 0.9880 - val_loss: 0.0332 - val_sparse_categorical_accuracy: 0.9861\n",
            "Epoch 3/3\n",
            "399/399 [==============================] - 9s 22ms/step - loss: 0.0293 - sparse_categorical_accuracy: 0.9884 - val_loss: 0.0291 - val_sparse_categorical_accuracy: 0.9898\n",
            "\n",
            "server:\n",
            "4  \n",
            "Epoch 1/3\n",
            "399/399 [==============================] - 10s 23ms/step - loss: 0.0327 - sparse_categorical_accuracy: 0.9877 - val_loss: 0.0342 - val_sparse_categorical_accuracy: 0.9854\n",
            "Epoch 2/3\n",
            "399/399 [==============================] - 9s 21ms/step - loss: 0.0316 - sparse_categorical_accuracy: 0.9879 - val_loss: 0.0386 - val_sparse_categorical_accuracy: 0.9814\n",
            "Epoch 3/3\n",
            "399/399 [==============================] - 9s 22ms/step - loss: 0.0289 - sparse_categorical_accuracy: 0.9888 - val_loss: 0.0271 - val_sparse_categorical_accuracy: 0.9898\n",
            "\n",
            "server:\n",
            "4  \n",
            "\n",
            "local_model:\n",
            "\n",
            "0  \n",
            "Epoch 1/3\n",
            "399/399 [==============================] - 10s 22ms/step - loss: 0.0282 - sparse_categorical_accuracy: 0.9893 - val_loss: 0.0277 - val_sparse_categorical_accuracy: 0.9869\n",
            "Epoch 2/3\n",
            "399/399 [==============================] - 9s 22ms/step - loss: 0.0249 - sparse_categorical_accuracy: 0.9909 - val_loss: 0.0221 - val_sparse_categorical_accuracy: 0.9921\n",
            "Epoch 3/3\n",
            "399/399 [==============================] - 9s 22ms/step - loss: 0.0218 - sparse_categorical_accuracy: 0.9927 - val_loss: 0.0188 - val_sparse_categorical_accuracy: 0.9956\n",
            "\n",
            "server:\n",
            "1  \n",
            "Epoch 1/3\n",
            "399/399 [==============================] - 11s 22ms/step - loss: 0.0275 - sparse_categorical_accuracy: 0.9896 - val_loss: 0.0268 - val_sparse_categorical_accuracy: 0.9901\n",
            "Epoch 2/3\n",
            "399/399 [==============================] - 9s 22ms/step - loss: 0.0254 - sparse_categorical_accuracy: 0.9908 - val_loss: 0.0242 - val_sparse_categorical_accuracy: 0.9914\n",
            "Epoch 3/3\n",
            "399/399 [==============================] - 9s 22ms/step - loss: 0.0222 - sparse_categorical_accuracy: 0.9925 - val_loss: 0.0296 - val_sparse_categorical_accuracy: 0.9858\n",
            "\n",
            "server:\n",
            "2  \n",
            "Epoch 1/3\n",
            "399/399 [==============================] - 11s 22ms/step - loss: 0.0274 - sparse_categorical_accuracy: 0.9896 - val_loss: 0.0333 - val_sparse_categorical_accuracy: 0.9865\n",
            "Epoch 2/3\n",
            "399/399 [==============================] - 9s 22ms/step - loss: 0.0243 - sparse_categorical_accuracy: 0.9910 - val_loss: 0.0227 - val_sparse_categorical_accuracy: 0.9896\n",
            "Epoch 3/3\n",
            "399/399 [==============================] - 9s 21ms/step - loss: 0.0222 - sparse_categorical_accuracy: 0.9924 - val_loss: 0.0225 - val_sparse_categorical_accuracy: 0.9889\n",
            "\n",
            "server:\n",
            "3  \n",
            "Epoch 1/3\n",
            "399/399 [==============================] - 10s 22ms/step - loss: 0.0279 - sparse_categorical_accuracy: 0.9895 - val_loss: 0.0267 - val_sparse_categorical_accuracy: 0.9911\n",
            "Epoch 2/3\n",
            "399/399 [==============================] - 9s 22ms/step - loss: 0.0253 - sparse_categorical_accuracy: 0.9907 - val_loss: 0.0265 - val_sparse_categorical_accuracy: 0.9919\n",
            "Epoch 3/3\n",
            "399/399 [==============================] - 9s 22ms/step - loss: 0.0226 - sparse_categorical_accuracy: 0.9920 - val_loss: 0.0232 - val_sparse_categorical_accuracy: 0.9935\n",
            "\n",
            "server:\n",
            "4  \n",
            "Epoch 1/3\n",
            "399/399 [==============================] - 10s 22ms/step - loss: 0.0280 - sparse_categorical_accuracy: 0.9896 - val_loss: 0.0289 - val_sparse_categorical_accuracy: 0.9885\n",
            "Epoch 2/3\n",
            "399/399 [==============================] - 9s 22ms/step - loss: 0.0252 - sparse_categorical_accuracy: 0.9909 - val_loss: 0.0264 - val_sparse_categorical_accuracy: 0.9904\n",
            "Epoch 3/3\n",
            "399/399 [==============================] - 9s 23ms/step - loss: 0.0225 - sparse_categorical_accuracy: 0.9924 - val_loss: 0.0287 - val_sparse_categorical_accuracy: 0.9857\n",
            "\n",
            "server:\n"
          ]
        },
        {
          "output_type": "stream",
          "name": "stderr",
          "text": [
            "INFO:root:*** TRAINING FINISH ***\n"
          ]
        }
      ]
    },
    {
      "cell_type": "code",
      "source": [
        "#测试数据读取\n",
        "df_test = pd.read_csv(os.path.join(PROCESSED_DIR_PATH, 'test_MachineLearningCVE.csv'), skipinitialspace=True)\n",
        "logging.info(\"Class distribution\\n{}\".format(df_test.Label.value_counts()))\n",
        "X_test, Y_test = preprocessing(df_test)\n",
        "del df_test\n",
        "X_test = reshape_dataset_cnn(X_test)"
      ],
      "metadata": {
        "id": "f4PyJqqUH84S",
        "colab": {
          "base_uri": "https://localhost:8080/"
        },
        "outputId": "243b85b6-da0d-468a-f46f-3da699ee5b09"
      },
      "execution_count": null,
      "outputs": [
        {
          "output_type": "stream",
          "name": "stderr",
          "text": [
            "INFO:root:Class distribution\n",
            "0     454620\n",
            "4      46215\n",
            "10     31786\n",
            "2      25606\n",
            "3       2058\n",
            "7       1588\n",
            "11      1179\n",
            "6       1159\n",
            "5       1100\n",
            "1        393\n",
            "12       302\n",
            "14       130\n",
            "9          7\n",
            "13         4\n",
            "8          2\n",
            "Name: Label, dtype: int64\n"
          ]
        }
      ]
    },
    {
      "cell_type": "code",
      "source": [
        "import warnings\n",
        "warnings.filterwarnings(\"ignore\")\n",
        "server.set_weights(weights)\n",
        "#服务端对当前模型进行评估\n",
        "evaluation(server, X_test, Y_test)\n",
        "del X_test,Y_test"
      ],
      "metadata": {
        "id": "aEi8naWLBeyp",
        "colab": {
          "base_uri": "https://localhost:8080/"
        },
        "outputId": "5a03e3cb-2953-4ac1-ed78-1b3aead5dbda"
      },
      "execution_count": null,
      "outputs": [
        {
          "output_type": "stream",
          "name": "stderr",
          "text": [
            "INFO:root:Evaluation:\n",
            "Loss: 0.05720565840601921\n",
            "Accuracy : 0.9851346611976624\n",
            "\n",
            "INFO:root:\n",
            "              precision    recall  f1-score   support\n",
            "\n",
            "           0       1.00      0.98      0.99    454620\n",
            "           1       0.99      0.39      0.56       393\n",
            "           2       1.00      0.99      0.99     25606\n",
            "           3       0.86      0.99      0.92      2058\n",
            "           4       1.00      1.00      1.00     46215\n",
            "           5       0.90      0.97      0.93      1100\n",
            "           6       0.96      0.99      0.97      1159\n",
            "           7       1.00      1.00      1.00      1588\n",
            "           8       1.00      1.00      1.00         2\n",
            "           9       0.00      0.00      0.00         7\n",
            "          10       0.83      1.00      0.91     31786\n",
            "          11       0.90      0.99      0.94      1179\n",
            "          12       0.42      0.95      0.58       302\n",
            "          13       0.00      0.00      0.00         4\n",
            "          14       0.20      0.01      0.01       130\n",
            "\n",
            "    accuracy                           0.99    566149\n",
            "   macro avg       0.74      0.75      0.72    566149\n",
            "weighted avg       0.99      0.99      0.99    566149\n",
            "\n"
          ]
        }
      ]
    },
    {
      "cell_type": "code",
      "source": [
        "import pandas as pd\n",
        "\n",
        "# 读取CSV文件\n",
        "data = pd.read_csv(os.path.join(PROCESSED_DIR_PATH, 'train_MachineLearningCVE.csv'), skipinitialspace=True)\n",
        "\n",
        "# 按照gender属性分组\n",
        "groups = data.groupby('Label')\n",
        "\n",
        "# 遍历每个分组，将数据写入到不同的CSV文件中\n",
        "for name, group in groups:\n",
        "    filename = f'{name}.csv'  # 文件名为gender属性值.csv\n",
        "    file_name = os.path.join(PROCESSED_DIR_PATH, filename)\n",
        "    group.to_csv(file_name, index=False)  # 将数据写入到CSV文件中，不包含行索引"
      ],
      "metadata": {
        "id": "cLUowzt3JpPG"
      },
      "execution_count": null,
      "outputs": []
    }
  ]
}